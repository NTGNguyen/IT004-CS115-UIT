{
 "cells": [
  {
   "cell_type": "markdown",
   "id": "30325283-f4ad-4157-8a64-f2cd36ac703b",
   "metadata": {},
   "source": [
    "## Module: y=a*x + b"
   ]
  },
  {
   "cell_type": "code",
   "execution_count": 2,
   "id": "ac35be27-7892-4a95-8b87-d1e4068a81d0",
   "metadata": {},
   "outputs": [],
   "source": [
    "import numpy as np\n",
    "import seaborn as sns\n",
    "import matplotlib.pyplot as plt\n",
    "#default func\n",
    "def f(x):\n",
    "    return 3*x+2"
   ]
  },
  {
   "cell_type": "code",
   "execution_count": 3,
   "id": "04204097-9ed3-4b92-992a-5f95d7e3f774",
   "metadata": {},
   "outputs": [],
   "source": [
    "np.random.seed(49)\n",
    "x =np.random.uniform(0,1,10)"
   ]
  },
  {
   "cell_type": "code",
   "execution_count": 4,
   "id": "b3557ecf-a127-42cb-8889-70010eaf13da",
   "metadata": {},
   "outputs": [
    {
     "data": {
      "text/plain": [
       "array([0.30096446, 0.24706183, 0.92633514, 0.89160344, 0.68327676,\n",
       "       0.56688466, 0.54696588, 0.21042384, 0.76975447, 0.8962301 ])"
      ]
     },
     "execution_count": 4,
     "metadata": {},
     "output_type": "execute_result"
    }
   ],
   "source": [
    "x"
   ]
  },
  {
   "cell_type": "code",
   "execution_count": 5,
   "id": "68ae2fff-c458-4c72-a0e6-72b7b90185b7",
   "metadata": {},
   "outputs": [],
   "source": [
    "y = f(x)"
   ]
  },
  {
   "cell_type": "code",
   "execution_count": 6,
   "id": "3d017790-a010-4cd6-825a-90920d529a28",
   "metadata": {},
   "outputs": [
    {
     "data": {
      "text/plain": [
       "array([2.90289337, 2.7411855 , 4.77900541, 4.67481031, 4.04983028,\n",
       "       3.70065398, 3.64089764, 2.63127151, 4.3092634 , 4.6886903 ])"
      ]
     },
     "execution_count": 6,
     "metadata": {},
     "output_type": "execute_result"
    }
   ],
   "source": [
    "y"
   ]
  },
  {
   "cell_type": "markdown",
   "id": "c381f51e-70e9-4ae2-81ff-d98110dbb2d2",
   "metadata": {},
   "source": [
    "## Create noise\n"
   ]
  },
  {
   "cell_type": "code",
   "execution_count": 7,
   "id": "0d63b939-ac94-4758-93be-733458234d4f",
   "metadata": {},
   "outputs": [],
   "source": [
    "noise = np.random.normal(0,0.3,10)"
   ]
  },
  {
   "cell_type": "code",
   "execution_count": 8,
   "id": "3b8981d1-9728-4d98-a221-b4531f361100",
   "metadata": {},
   "outputs": [],
   "source": [
    "y = f(x) + noise"
   ]
  },
  {
   "cell_type": "code",
   "execution_count": null,
   "id": "ec12b8d1-1b2e-4621-a3d9-0f1b0708f0ba",
   "metadata": {},
   "outputs": [],
   "source": []
  }
 ],
 "metadata": {
  "kernelspec": {
   "display_name": "Python 3 (ipykernel)",
   "language": "python",
   "name": "python3"
  },
  "language_info": {
   "codemirror_mode": {
    "name": "ipython",
    "version": 3
   },
   "file_extension": ".py",
   "mimetype": "text/x-python",
   "name": "python",
   "nbconvert_exporter": "python",
   "pygments_lexer": "ipython3",
   "version": "3.12.5"
  }
 },
 "nbformat": 4,
 "nbformat_minor": 5
}
